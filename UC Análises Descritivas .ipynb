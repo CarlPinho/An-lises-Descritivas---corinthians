{
  "nbformat": 4,
  "nbformat_minor": 0,
  "metadata": {
    "colab": {
      "provenance": [],
      "toc_visible": true
    },
    "kernelspec": {
      "name": "python3",
      "display_name": "Python 3"
    },
    "language_info": {
      "name": "python"
    }
  },
  "cells": [
    {
      "cell_type": "code",
      "execution_count": null,
      "metadata": {
        "id": "PAsca9dg96aJ"
      },
      "outputs": [],
      "source": [
        "import pandas as pd\n",
        "import numpy as np\n",
        "from sklearn.model_selection import train_test_split\n",
        "from sklearn.preprocessing import LabelEncoder, OneHotEncoder, StandardScaler\n",
        "from sklearn.linear_model import LinearRegression\n",
        "from sklearn.metrics import mean_squared_error, mean_absolute_error, r2_score\n",
        "import matplotlib.pyplot as plt\n",
        "from sklearn.feature_selection import SelectKBest, chi2\n",
        "from sklearn.model_selection import GridSearchCV\n",
        "\n",
        "\n",
        "\n",
        "df_gols_marcados = pd.read_csv('Gols_Marcados.csv')\n",
        "df_gols_sofridos = pd.read_csv('Gols_Sofridos.csv')\n",
        "df_jogadores = pd.read_csv('Jogadores.csv')\n",
        "df_jogos = pd.read_csv('Jogos.csv')\n",
        "df_escalacoes = pd.read_csv('Escalacoes.csv')\n",
        "\n",
        "\n",
        "\n",
        "files = ['Gols_Marcados.csv', 'Gols_Sofridos.csv', 'Jogadores.csv', 'Jogos.csv', 'Escalacoes.csv']\n",
        "dataframes = []\n",
        "for file in files:\n",
        "    dataframes.append(pd.read_csv(file))\n",
        "\n",
        "\n",
        "\n",
        "for df in dataframes:\n",
        "    print(df.head())\n",
        "\n",
        "\n",
        "\n"
      ]
    },
    {
      "cell_type": "code",
      "source": [
        "label_encoder = LabelEncoder()\n",
        "one_hot_encoder = OneHotEncoder(handle_unknown='ignore')\n",
        "\n",
        "for coluna in ['JOGADOR_M', 'ASSISTENCIA_M', 'JOGADOR_S', 'ASSISTENCIA_S', 'SETOR_M', 'AREA_M', 'ESTILO_M',\n",
        "                'SETOR_S', 'AREA_S', 'ESTILO_S', 'DIA-SEMANA_M', 'DIA-SEMANA_S']:\n",
        "    if coluna in df.columns:\n",
        "        if df[coluna].dtype == object:\n",
        "            df[coluna] = label_encoder.fit_transform(df[coluna])\n",
        "        else:\n",
        "            encoded_data = one_hot_encoder.fit_transform(df[coluna].values.reshape(-1, 1))\n",
        "            encoded_df = pd.DataFrame(encoded_data.toarray(), columns=[f\"{coluna}_{cat}\" for cat in one_hot_encoder.categories_[0]])  # Use toarray() to get dense array\n",
        "            df = df.join(encoded_df)\n",
        "\n",
        "\n",
        "print(df.head())\n"
      ],
      "metadata": {
        "id": "OOWB7i7lCnLF"
      },
      "execution_count": null,
      "outputs": []
    },
    {
      "cell_type": "code",
      "source": [
        "scaler = StandardScaler()\n",
        "for coluna in ['JOGADOR_M', 'NUM CAMISA_M', 'PLACAR_M', 'PUBLICO', 'RENDA', 'MINUTO_S',\n",
        "                'NUM CAMISA_S', 'PLACAR_S', 'JOGOS', 'VITÓRIAS', 'EMPATES', 'DERROTAS',\n",
        "                'DESEMPENHO (%)', 'GOLS', 'ASSISTÊNCIAS', 'TITULAR', 'RESERVA', 'SUBSTITUÍDO',\n",
        "                'CAPITÃO', 'CA', 'CV', 'BRASILEIRO', 'PAULISTA', 'COPA DO BRASIL', 'LIBERTADORES',\n",
        "                'SULAMERICANA', 'AMISTOSOS', 'GOLS NORTE', 'GOLS SUL', 'GOLS 1-TEMPO', 'GOLS 2-TEMPO',\n",
        "                '2 GOLS', 'HAT-TRICK', 'GOLS DE PÊNALTI', 'PÊNALTIS PERDIDOS', 'GOLS DE FALTA',\n",
        "                'DENTRO DA ÁREA', 'FORA DA ÁREA', 'PÉ DIREITO', 'PÉ ESQUERDO', 'CABEÇA', 'GOLS CONTRA',\n",
        "                'GOLS (OUTROS ESTILOS)']:\n",
        " df_to_modify = dataframes[0].copy()\n"
      ],
      "metadata": {
        "id": "wBOTiORUZwtn"
      },
      "execution_count": 54,
      "outputs": []
    },
    {
      "cell_type": "code",
      "source": [
        "X = df.drop(['GOL_M', 'JOGO', 'LINK_M', 'LINK_S', 'DATA_M', 'DATA_S'], axis=1)\n",
        "y = df['GOL_M']"
      ],
      "metadata": {
        "id": "Ymo-3mTRrrIQ"
      },
      "execution_count": null,
      "outputs": []
    },
    {
      "cell_type": "code",
      "source": [
        "selector = SelectKBest(chi2, k=30)\n",
        "X_new = selector.fit_transform(X, y)\n",
        "selected_features = X.columns[selector.get_support()]\n",
        "X = df[selected_features]"
      ],
      "metadata": {
        "id": "RFFHA190rt0F"
      },
      "execution_count": null,
      "outputs": []
    },
    {
      "cell_type": "code",
      "source": [
        "X_train, X_test, y_train, y_test = train_test_split(X, y, test_size=0.2, random_state=42)"
      ],
      "metadata": {
        "id": "ZogCCw05rwSJ"
      },
      "execution_count": null,
      "outputs": []
    },
    {
      "cell_type": "code",
      "source": [
        "param_grid = {'fit_intercept': [True, False],\n",
        "              'normalize': [True, False]}\n",
        "grid_search = GridSearchCV(model, param_grid, cv=5, scoring='neg_mean_squared_error')\n",
        "grid_search.fit(X_train, y_train)"
      ],
      "metadata": {
        "id": "qbplhvJDrxHy"
      },
      "execution_count": null,
      "outputs": []
    },
    {
      "cell_type": "code",
      "source": [
        "model = LinearRegression()"
      ],
      "metadata": {
        "id": "6_1xFBGjrzNr"
      },
      "execution_count": null,
      "outputs": []
    },
    {
      "cell_type": "code",
      "source": [
        "param_grid = {'fit_intercept': [True, False],\n",
        "              'normalize': [True, False]}\n",
        "grid_search = GridSearchCV(model, param_grid, cv=5, scoring='neg_mean_squared_error')\n",
        "grid_search.fit(X_train, y_train)"
      ],
      "metadata": {
        "id": "6aa9xjD8r1W1"
      },
      "execution_count": null,
      "outputs": []
    },
    {
      "cell_type": "code",
      "source": [
        "best_model = grid_search.best_estimator_"
      ],
      "metadata": {
        "id": "9Re0oNb-r4fv"
      },
      "execution_count": null,
      "outputs": []
    },
    {
      "cell_type": "code",
      "source": [
        "y_pred = best_model.predict(X_test)"
      ],
      "metadata": {
        "id": "ElOtQBU6r5Pn"
      },
      "execution_count": null,
      "outputs": []
    },
    {
      "cell_type": "code",
      "source": [
        "rmse = mean_squared_error(y_test, y_pred, squared=False)\n",
        "mae = mean_absolute_error(y_test, y_pred)\n",
        "r2 = r2_score(y_test, y_pred)\n",
        "\n",
        "print(f\"RMSE: {rmse}\")\n",
        "print(f\"MAE: {mae}\")\n",
        "print(f\"R²: {r2}\")"
      ],
      "metadata": {
        "id": "JgAn88_qvPUZ"
      },
      "execution_count": null,
      "outputs": []
    },
    {
      "cell_type": "code",
      "source": [
        "plt.figure(figsize=(10, 6))\n",
        "plt.scatter(y_test, y_pred, color='blue')\n",
        "plt.plot([y_test.min(), y_test.max()], [y_test.min(), y_test.max()], 'r--', lw=2)\n",
        "plt.xlabel('Gols Reais')\n",
        "plt.ylabel('Gols Preditos')\n",
        "plt.title('Gols Reais vs Gols Preditos')\n",
        "plt.show()"
      ],
      "metadata": {
        "id": "Qi8eTGFAvTYS"
      },
      "execution_count": null,
      "outputs": []
    }
  ]
}
